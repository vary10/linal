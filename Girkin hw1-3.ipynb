{
 "cells": [
  {
   "cell_type": "code",
   "execution_count": 1,
   "metadata": {},
   "outputs": [],
   "source": [
    "from lin import *"
   ]
  },
  {
   "cell_type": "markdown",
   "metadata": {},
   "source": [
    "# No 1"
   ]
  },
  {
   "cell_type": "code",
   "execution_count": 2,
   "metadata": {},
   "outputs": [],
   "source": [
    "A = Matrix([[3, -25, 5],\n",
    "[-1, -17, 49],\n",
    "[29, 17, 0],\n",
    "[3, -16, -13]])"
   ]
  },
  {
   "cell_type": "code",
   "execution_count": 3,
   "metadata": {},
   "outputs": [
    {
     "name": "stdout",
     "output_type": "stream",
     "text": [
      "U:\n",
      " 0.283926 -0.383850 0.603102\n",
      "0.933659 0.248802 -0.008362\n",
      "-0.202590 0.780136 0.591899\n",
      "-0.081392 -0.426784 0.534653\n",
      "S:\n",
      " 54.725829 0.000000 0.000000\n",
      "0.000000 36.001329 0.000000\n",
      "0.000000 0.000000 24.959727\n",
      "V:\n",
      " -0.113313 0.553959 0.824797\n",
      "-0.458871 0.707126 -0.537969\n",
      "0.881248 0.439435 -0.174069\n"
     ]
    }
   ],
   "source": [
    "U, S, V = SVD(A)"
   ]
  },
  {
   "cell_type": "code",
   "execution_count": 4,
   "metadata": {},
   "outputs": [
    {
     "name": "stdout",
     "output_type": "stream",
     "text": [
      "3.000000 -25.000000 5.000000\n",
      "-1.000000 -17.000000 49.000000\n",
      "29.000000 17.000000 0.000000\n",
      "3.000000 -16.000000 -13.000000\n"
     ]
    }
   ],
   "source": [
    "print(U * S * V.transposed())"
   ]
  },
  {
   "cell_type": "markdown",
   "metadata": {},
   "source": [
    "# No 2"
   ]
  },
  {
   "cell_type": "code",
   "execution_count": 5,
   "metadata": {},
   "outputs": [
    {
     "name": "stdout",
     "output_type": "stream",
     "text": [
      "B:\n",
      "1.000000 0.000000 0.000000\n",
      "0.000000 1.000000 0.000000\n",
      "0.000000 0.000000 1.000000\n",
      "0.881579 -0.355263 0.000000\n",
      "\n",
      "C:\n",
      "3.000000 -25.000000 5.000000\n",
      "-1.000000 -17.000000 49.000000\n",
      "29.000000 17.000000 0.000000\n",
      "\n",
      "A+: \n",
      "0.013435 0.001619 0.031983 0.011269\n",
      "-0.022919 -0.002762 0.004264 -0.019224\n",
      "-0.004319 0.018130 0.002132 -0.010249\n",
      "\n"
     ]
    }
   ],
   "source": [
    "B, C, A_pi = dec(A)"
   ]
  },
  {
   "cell_type": "code",
   "execution_count": 6,
   "metadata": {},
   "outputs": [
    {
     "name": "stdout",
     "output_type": "stream",
     "text": [
      "3.000000 -25.000000 5.000000\n",
      "-1.000000 -17.000000 49.000000\n",
      "29.000000 17.000000 0.000000\n",
      "3.000000 -16.000000 -13.000000\n"
     ]
    }
   ],
   "source": [
    "print(B * C)"
   ]
  },
  {
   "cell_type": "code",
   "execution_count": 7,
   "metadata": {},
   "outputs": [
    {
     "name": "stdout",
     "output_type": "stream",
     "text": [
      "A*A+*A:\n",
      " 3.000000 -25.000000 5.000000\n",
      "-1.000000 -17.000000 49.000000\n",
      "29.000000 17.000000 0.000000\n",
      "3.000000 -16.000000 -13.000000 \n",
      "\n",
      "A+*A*A+:\n",
      " 0.013435 0.001619 0.031983 0.011269\n",
      "-0.022919 -0.002762 0.004264 -0.019224\n",
      "-0.004319 0.018130 0.002132 -0.010249 \n",
      "\n"
     ]
    }
   ],
   "source": [
    "print(\"A*A+*A:\\n\", A * A_pi * A, \"\\n\")\n",
    "print(\"A+*A*A+:\\n\", A_pi * A * A_pi, \"\\n\")"
   ]
  },
  {
   "cell_type": "code",
   "execution_count": 8,
   "metadata": {},
   "outputs": [
    {
     "name": "stdout",
     "output_type": "stream",
     "text": [
      "0.591686 0.164544 0.000000 0.463162\n",
      "0.164544 0.933691 0.000000 -0.186647\n",
      "0.000000 0.000000 1.000000 0.000000\n",
      "0.463162 -0.186647 0.000000 0.474623 \n",
      "\n",
      "1.000000 0.000000 0.000000\n",
      "0.000000 1.000000 0.000000\n",
      "0.000000 0.000000 1.000000\n"
     ]
    }
   ],
   "source": [
    "print((A * A_pi).transposed(), \"\\n\")\n",
    "print((A_pi * A).transposed())"
   ]
  },
  {
   "cell_type": "markdown",
   "metadata": {},
   "source": [
    "# No 3"
   ]
  },
  {
   "cell_type": "code",
   "execution_count": 9,
   "metadata": {},
   "outputs": [],
   "source": [
    "A = Matrix([[14, 17, -11, -15],\n",
    " [-26, -30, -6, -20],\n",
    " [-15, 34, -12, -19],\n",
    " [-21, -31, -23, 37]])\n",
    "B = Matrix([[17], [-21], [-15], [30]])"
   ]
  },
  {
   "cell_type": "code",
   "execution_count": 10,
   "metadata": {},
   "outputs": [
    {
     "name": "stdout",
     "output_type": "stream",
     "text": [
      "a = 0.97047\n",
      "b = -0.19390\n",
      "c = -1.21515\n",
      "d = 0.44379\n",
      "\n"
     ]
    }
   ],
   "source": [
    "k = solve(A, B)"
   ]
  },
  {
   "cell_type": "code",
   "execution_count": 11,
   "metadata": {},
   "outputs": [
    {
     "name": "stdout",
     "output_type": "stream",
     "text": [
      "17.000000\n",
      "-21.000000\n",
      "-15.000000\n",
      "30.000000\n"
     ]
    }
   ],
   "source": [
    "print(A * k)"
   ]
  }
 ],
 "metadata": {
  "kernelspec": {
   "display_name": "py3",
   "language": "python",
   "name": "py3"
  },
  "language_info": {
   "codemirror_mode": {
    "name": "ipython",
    "version": 3
   },
   "file_extension": ".py",
   "mimetype": "text/x-python",
   "name": "python",
   "nbconvert_exporter": "python",
   "pygments_lexer": "ipython3",
   "version": "3.5.2"
  }
 },
 "nbformat": 4,
 "nbformat_minor": 2
}
